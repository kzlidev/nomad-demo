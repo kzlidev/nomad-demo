{
 "cells": [
  {
   "cell_type": "code",
   "execution_count": null,
   "metadata": {
    "vscode": {
     "languageId": "shellscript"
    }
   },
   "outputs": [],
   "source": [
    "export VAULT_TOKEN=<VAULT_TOKEN>\n",
    "export VAULT_ADDR=<VAULT_ADDR>\n",
    "export VAULT_NAMESPACE=admin\n",
    "export VAULT_FORMAT=\"json\"\n",
    "export COMMON_NAME=\"global.nomad\"\n",
    "export CLIENT_COMMON_NAME=\"client.global.nomad\"\n",
    "export SERVER_COMMON_NAME=\"server.global.nomad\"\n",
    "export PKI_PATH=\"nomad-pki\""
   ]
  },
  {
   "cell_type": "code",
   "execution_count": null,
   "metadata": {
    "vscode": {
     "languageId": "shellscript"
    }
   },
   "outputs": [],
   "source": [
    "# Enable PKI\n",
    "vault secrets enable -path=$PREFIX\"-pki\" pki"
   ]
  },
  {
   "cell_type": "code",
   "execution_count": null,
   "metadata": {
    "vscode": {
     "languageId": "shellscript"
    }
   },
   "outputs": [],
   "source": [
    "# Update the CRL location and issuing certificates\n",
    "vault write $PKI_PATH/config/urls \\\n",
    "    issuing_certificates=\"$VAULT_ADDR/v1/pki/ca\" \\\n",
    "    crl_distribution_points=\"$VAULT_ADDR/v1/pki/crl\"\n",
    "    \n",
    "# Configure CA certificate and private key\n",
    "vault write $PKI_PATH/root/generate/internal \\\n",
    "    common_name=$COMMON_NAME \\\n",
    "    ttl=8760h\n"
   ]
  },
  {
   "cell_type": "code",
   "execution_count": null,
   "metadata": {
    "vscode": {
     "languageId": "shellscript"
    }
   },
   "outputs": [],
   "source": [
    "# Configure a role that maps a name in Vault to a procedure for generating a certificate\n",
    "vault write $PKI_PATH/roles/my-demo \\\n",
    "    allowed_domains=$COMMON_NAME \\\n",
    "    allow_subdomains=true"
   ]
  },
  {
   "cell_type": "code",
   "execution_count": null,
   "metadata": {
    "vscode": {
     "languageId": "shellscript"
    }
   },
   "outputs": [],
   "source": [
    "# Generate a new credential for client\n",
    "vault write $PKI_PATH/issue/my-demo \\\n",
    "      common_name=$CLIENT_COMMON_NAME \\\n",
    "      ttl=\"100h\" \\\n",
    "      ip_sans=\"127.0.0.1\" alt_names=\"localhost\" > client-response.json\n",
    "\n",
    "export CA_CHAIN=$(cat client-response.json | jq -r '.data.ca_chain[0]')\n",
    "export PRIVATE_KEY=$(cat client-response.json | jq -r '.data.private_key')\n",
    "export CERTIFICATE=$(cat client-response.json | jq -r '.data.certificate')\n",
    "\n",
    "echo $CA_CHAIN > ../platform/certs/ca.crt\n",
    "echo $PRIVATE_KEY > ../platform/certs/nomad-client.key\n",
    "echo $CERTIFICATE > ../platform/certs/nomad-client.crt\n",
    "\n",
    "rm client-response.json"
   ]
  },
  {
   "cell_type": "code",
   "execution_count": null,
   "metadata": {
    "vscode": {
     "languageId": "shellscript"
    }
   },
   "outputs": [],
   "source": [
    "# Generate a new credential\n",
    "vault write $PKI_PATH/issue/my-demo \\\n",
    "      common_name=$SERVER_COMMON_NAME \\\n",
    "      ttl=\"100h\" \\\n",
    "      ip_sans=\"127.0.0.1\" alt_names=\"localhost\" > server-response.json\n",
    "\n",
    "export PRIVATE_KEY=$(cat server-response.json | jq -r '.data.private_key')\n",
    "export CERTIFICATE=$(cat server-response.json | jq -r '.data.certificate')\n",
    "\n",
    "echo $PRIVATE_KEY > ../platform/certs/nomad-server.key\n",
    "echo $CERTIFICATE > ../platform/certs/nomad-server.crt\n",
    "\n",
    "rm server-response.json"
   ]
  }
 ],
 "metadata": {
  "kernelspec": {
   "display_name": "Bash",
   "language": "bash",
   "name": "bash"
  },
  "language_info": {
   "codemirror_mode": "shell",
   "file_extension": ".sh",
   "mimetype": "text/x-sh",
   "name": "bash"
  }
 },
 "nbformat": 4,
 "nbformat_minor": 2
}
